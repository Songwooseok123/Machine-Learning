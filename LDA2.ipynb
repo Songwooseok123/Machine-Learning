{
 "cells": [
  {
   "cell_type": "markdown",
   "metadata": {
    "id": "B9XzCNec9nuT"
   },
   "source": [
    "#Data "
   ]
  },
  {
   "cell_type": "markdown",
   "metadata": {
    "id": "rja9s-eu-3SU"
   },
   "source": [
    "## 사진 400장 train/test set 나누기\n"
   ]
  },
  {
   "cell_type": "code",
   "execution_count": 49,
   "metadata": {
    "executionInfo": {
     "elapsed": 730,
     "status": "ok",
     "timestamp": 1619590895871,
     "user": {
      "displayName": "송우석",
      "photoUrl": "",
      "userId": "17544301414917834266"
     },
     "user_tz": -540
    },
    "id": "QVM6YXFd-PTn"
   },
   "outputs": [],
   "source": [
    "def train_test(test_a,test_b):\n",
    "  subject_train=[]\n",
    "  for i in range(1,test_a):\n",
    "    path = './att_faces/s'+str(i)\n",
    "    file_list = os.listdir(path)\n",
    "    for j in range(10):\n",
    "      with Image.open(path+\"/\"+file_list[j]) as im:\n",
    "        a= np.asarray(im)\n",
    "        new_a=a.reshape(112*92,)\n",
    "        subject_train.append(new_a)\n",
    "  \n",
    "  for i in range(test_b,41):\n",
    "    path = './att_faces/s'+str(i)\n",
    "    file_list = os.listdir(path)\n",
    "    for j in range(10):\n",
    "      with Image.open(path+\"/\"+file_list[j]) as im:\n",
    "        a= np.asarray(im)\n",
    "        new_a=a.reshape(112*92,)\n",
    "        subject_train.append(new_a)\n",
    "  subject_train=np.asarray(subject_train)\n",
    "\n",
    "  subject_test=[]\n",
    "  for i in range(test_a,test_b):\n",
    "    path = './att_faces/s'+str(i)\n",
    "    file_list = os.listdir(path)\n",
    "    for j in range(10):\n",
    "      with Image.open(path+\"/\"+file_list[j]) as im:\n",
    "        a= np.asarray(im)\n",
    "        new_a=a.reshape(112*92,)\n",
    "        subject_test.append(new_a)\n",
    "  subject_test=np.asarray(subject_test)\n",
    "  \n",
    "  return subject_train,subject_test"
   ]
  },
  {
   "cell_type": "code",
   "execution_count": 51,
   "metadata": {
    "executionInfo": {
     "elapsed": 729,
     "status": "ok",
     "timestamp": 1619591249387,
     "user": {
      "displayName": "송우석",
      "photoUrl": "",
      "userId": "17544301414917834266"
     },
     "user_tz": -540
    },
    "id": "IMg9d9nec3gZ"
   },
   "outputs": [],
   "source": [
    "def Final_y_test(test_a,test_b,N_d):\n",
    "  subject_test=train_test(test_a,test_b)[1]\n",
    "  # 평균 빼서 데이터 원점으로 옮기기.\n",
    "  subject_test_mean = np.mean(subject_test, axis=0, keepdims=True)\n",
    "  subject_test_origin = subject_test - subject_test_mean\n",
    "\n",
    "  #3차원으로 차원축소\n",
    "  pca = my_PCA(N=N_d)\n",
    "  pca.get_eigen(subject_test_origin)\n",
    "  final_y_test=pca.dimension_reduction(subject_test_origin)[0]\n",
    "  return final_y_test\n",
    "def reconstruction(test_a,test_b):  \n",
    "  subject_test=train_test(test_a,test_b)[1]\n",
    "  N_eigen_matrics=result(test_a,test_b)[0]\n",
    "  subject_test_mean = np.mean(subject_test, axis=0, keepdims=True)\n",
    "  reconstructed_data = np.matmul(final_y_test,N_eigen_matrics.T)+subject_test_mean\n",
    "  return reconstructed_data"
   ]
  },
  {
   "cell_type": "code",
   "execution_count": 53,
   "metadata": {
    "executionInfo": {
     "elapsed": 267323,
     "status": "ok",
     "timestamp": 1619591781348,
     "user": {
      "displayName": "송우석",
      "photoUrl": "",
      "userId": "17544301414917834266"
     },
     "user_tz": -540
    },
    "id": "MyK36ERJAFkS"
   },
   "outputs": [],
   "source": [
    "def pointDist(x,y):\n",
    "  sum=0\n",
    "  for i in range(len(x)):\n",
    "    sum+=(x[i]-y[i])**2\n",
    "  dist=sum**(1/2)\n",
    "  return dist\n"
   ]
  },
  {
   "cell_type": "markdown",
   "metadata": {
    "id": "oDv6Kk8-SKZn"
   },
   "source": [
    "#LDA"
   ]
  },
  {
   "cell_type": "markdown",
   "metadata": {
    "id": "-eC0cRui8Pkf"
   },
   "source": [
    "##Fisher *face*"
   ]
  },
  {
   "cell_type": "code",
   "execution_count": 54,
   "metadata": {
    "executionInfo": {
     "elapsed": 859,
     "status": "ok",
     "timestamp": 1619587421803,
     "user": {
      "displayName": "송우석",
      "photoUrl": "",
      "userId": "17544301414917834266"
     },
     "user_tz": -540
    },
    "id": "RybMf74Uu0oA"
   },
   "outputs": [],
   "source": [
    "from PIL import Image\n",
    "import numpy as np\n",
    "import os\n",
    "import matplotlib.pyplot as plt"
   ]
  },
  {
   "cell_type": "code",
   "execution_count": 56,
   "metadata": {
    "executionInfo": {
     "elapsed": 751,
     "status": "ok",
     "timestamp": 1619587429850,
     "user": {
      "displayName": "송우석",
      "photoUrl": "",
      "userId": "17544301414917834266"
     },
     "user_tz": -540
    },
    "id": "yKukWuHw0Yso"
   },
   "outputs": [],
   "source": [
    "def scatter(data):\n",
    "  average_class=[]\n",
    "  for i in range(len(data)):\n",
    "      mean = np.mean(data[i], axis=0, keepdims=True)\n",
    "      average_class.append(mean)\n",
    "      \n",
    "  average_class = np.asarray(average_class)\n",
    "\n",
    "  s_w=0\n",
    "  for s in range(len(data)):\n",
    "      s1=0\n",
    "      for i in range(len(data[s])):\n",
    "        s1+=np.matmul((data[s][i]-average_class[s]).T,data[s][i]-average_class[s])\n",
    "      s_w+=s1\n",
    "  #s_w=s_w/40 #40\n",
    "  mu= np.mean(average_class,axis=0)\n",
    "  s_b=0\n",
    "  for cc in range(len(data)):\n",
    "    #s_b+=10*np.matmul((average_class[cc]-mu).T,average_class[cc]-mu)#10\n",
    "    s_b+=np.matmul((average_class[cc]-mu).T,average_class[cc]-mu)  \n",
    "  #s_b=s_b/40 #40\n",
    "  return s_w,s_b"
   ]
  },
  {
   "cell_type": "code",
   "execution_count": 57,
   "metadata": {
    "executionInfo": {
     "elapsed": 740,
     "status": "ok",
     "timestamp": 1619587434583,
     "user": {
      "displayName": "송우석",
      "photoUrl": "",
      "userId": "17544301414917834266"
     },
     "user_tz": -540
    },
    "id": "Z0_kYDoxF67q"
   },
   "outputs": [],
   "source": [
    "class my_lda():\n",
    "\n",
    "    def __init__(self, N):\n",
    "        #N(축소시킬 차원)\n",
    "        self.N = N\n",
    "        self.eigen_matrics = None\n",
    "        self.eigen_value = None\n",
    "        \n",
    "    def get_eigen(self, data):\n",
    "        data=data.reshape(len(data),10,10304)\n",
    "        #data=data.reshape(2,5,2)\n",
    "        s_ex_w=scatter(data)[0]\n",
    "        s_ex_b=scatter(data)[1]\n",
    "        s_w_inverse=np.linalg.pinv(s_ex_w)\n",
    "        \n",
    "        #data=data.reshape(len(data),10304)\n",
    "        #data=data.reshape(10,2)        \n",
    "        #n, d = data.shape # 400,10304\n",
    "        d=10304\n",
    "        eigen=np.matmul(s_w_inverse,s_ex_b)\n",
    "        # np.linalg.eigh 이용해서\n",
    "        #eigen value, eigen vector 계산하기\n",
    "        eigvalues, eigvectors = np.linalg.eigh(eigen) \n",
    "        \n",
    "        # eigen value와 vectors 짝지어서 저장.\n",
    "        eigen_values_vectors = [(eigvalues[a], eigvectors[:, a]) for a in range(d)]\n",
    "        \n",
    "        # eigen value 값에 따라 내림차순 정렬 \n",
    "        eigen_sorting = sorted(eigen_values_vectors, key=lambda tup: tup[0], reverse=True)\n",
    "        \n",
    "        # eigen vector 쌓아서 행렬 만들기. \n",
    "        self.eigen_matrics = np.stack(list(map(lambda tup: tup[1], eigen_sorting)), axis=1)\n",
    "        \n",
    "        # eigen value 모아서 벡터 만들기. \n",
    "        self.eigen_values = np.array(list(map(lambda tup: tup[0], eigen_sorting)))\n",
    "        \n",
    "        #sorting 안하고 순서대로 eigen matrics 뽑은거\n",
    "        self.eigen_not_sorting_matrics = np.stack(list(map(lambda tup: tup[1], eigen_values_vectors)), axis=1)\n",
    "\n",
    "    def dimension_reduction(self, data):\n",
    "        \n",
    "        # N개의 eigen vector로 행렬만들기.\n",
    "        N_eigen_matrics = self.eigen_matrics[:, :self.N]\n",
    "        \n",
    "        # 차원 축소해서 정사영시킨 결과값들.\n",
    "        final_y = np.matmul(data, N_eigen_matrics)\n",
    "\n",
    "        return final_y,N_eigen_matrics, self.eigen_matrics, self.eigen_not_sorting_matrics"
   ]
  },
  {
   "cell_type": "code",
   "execution_count": 58,
   "metadata": {
    "executionInfo": {
     "elapsed": 1528,
     "status": "ok",
     "timestamp": 1619587444376,
     "user": {
      "displayName": "송우석",
      "photoUrl": "",
      "userId": "17544301414917834266"
     },
     "user_tz": -540
    },
    "id": "YohqBCBkgEbL"
   },
   "outputs": [],
   "source": [
    "def result_lda(data,N_d):\n",
    "  lda = my_lda(N=N_d)\n",
    "  #eigen vector 구하기\n",
    "  lda.get_eigen(data)\n",
    "\n",
    "  #주성분 축 행렬로 만들기 and 확인\n",
    "  N_eigen_matrics = lda.dimension_reduction(data)[1]\n",
    "  #N_eigen_matrics.shape\n",
    "\n",
    "  #차원축소 잘되었는지 확인\n",
    "  final_y=lda.dimension_reduction(data)[0]\n",
    "  #print(final_y.shape)\n",
    "  eigen_matrics=lda.dimension_reduction(data)[2]\n",
    "\n",
    "  #eigenface_vectors=N_eigen_matrics.T[0].reshape(112,92)\n",
    "  #plt.imshow(eigenface_vectors)\n",
    "  return N_eigen_matrics,final_y,eigen_matrics"
   ]
  },
  {
   "cell_type": "markdown",
   "metadata": {
    "id": "G5K1MLKa84kX"
   },
   "source": [
    "##query and gallery(lda)"
   ]
  },
  {
   "cell_type": "code",
   "execution_count": 60,
   "metadata": {
    "executionInfo": {
     "elapsed": 746,
     "status": "ok",
     "timestamp": 1619589284847,
     "user": {
      "displayName": "송우석",
      "photoUrl": "",
      "userId": "17544301414917834266"
     },
     "user_tz": -540
    },
    "id": "ntCHZWTJNvEL"
   },
   "outputs": [],
   "source": [
    "def ten_fold(sss,N_d):\n",
    "    subject=train_test(sss,sss+4)\n",
    "    subject_train=subject[0].reshape(36,10,10304)\n",
    "    subject_test=subject[1].reshape(4,10,10304)\n",
    "    \n",
    "    results=result_lda(subject_train,N_d)\n",
    "    N_eigen_matrics=results[0]\n",
    "    final_y = np.matmul(subject_test, N_eigen_matrics)\n",
    "    \n",
    "    final_y_test=final_y.reshape(40,N_d)\n",
    "\n",
    "    subject1=final_y_test[:10,:]\n",
    "    subject2=final_y_test[10:20,:]\n",
    "    subject3=final_y_test[20:30,:]\n",
    "    subject4=final_y_test[30:41,:]\n",
    "\n",
    "    subject_gallery=[]\n",
    "    subject_gallery.append(subject1[3:11,:])\n",
    "    subject_gallery.append(subject2[3:11,:])\n",
    "    subject_gallery.append(subject3[3:11,:])\n",
    "    subject_gallery.append(subject4[3:11,:])\n",
    "\n",
    "    subject_gallery=np.asarray(subject_gallery).reshape(28,N_d)\n",
    "\n",
    "    subject_query=[]\n",
    "    subject_query.append(subject1[:3,:])\n",
    "    subject_query.append(subject2[:3,:])\n",
    "    subject_query.append(subject3[:3,:])\n",
    "    subject_query.append(subject4[:3,:])\n",
    "    subject_query=np.asarray(subject_query).reshape(12,N_d)\n",
    "\n",
    "    dist=[]\n",
    "    for abc in range(len(subject_query)):\n",
    "          for gq in range(len(subject_gallery)):\n",
    "                  dist.append(pointDist(subject_query[abc],subject_gallery[gq]))\n",
    "    dist=np.asarray(dist)\n",
    "    dist=dist.reshape(12,28)\n",
    "    knn=np.argsort(dist, axis=1)[:, :7] \n",
    "    labeledKNN = knn//7\n",
    "\n",
    "    c = []\n",
    "    for row in labeledKNN:\n",
    "      temp = [0 for i in range(4)]\n",
    "      for i in range(7):\n",
    "        temp[row[i]]+=1\n",
    "      c.append(temp)\n",
    "      \n",
    "    splitedC = np.split(np.array(c), 4, axis=0)\n",
    "    pred = []\n",
    "    for row in splitedC:\n",
    "      pred.append(np.sum(row, axis=0))\n",
    "    pred=np.array(pred)/21.*100\n",
    "    return pred"
   ]
  },
  {
   "cell_type": "code",
   "execution_count": 61,
   "metadata": {
    "executionInfo": {
     "elapsed": 768,
     "status": "ok",
     "timestamp": 1619589296910,
     "user": {
      "displayName": "송우석",
      "photoUrl": "",
      "userId": "17544301414917834266"
     },
     "user_tz": -540
    },
    "id": "eYu52wz0TpBK"
   },
   "outputs": [],
   "source": [
    "def TF(N_d):\n",
    "  \n",
    "  PPP=[]\n",
    "  for i in range(1,38,4):\n",
    "    PPP.append(ten_fold(i,N_d))\n",
    "  PPP=np.array(PPP)\n",
    "  Final=np.sum(PPP,axis=0)/10\n",
    "  print(\"FINAL_CONFUSION_MATRICS\",Final)\n",
    "\n",
    "  accuracy=0\n",
    "  for i in range(4):\n",
    "    accuracy+=Final[i][i]\n",
    "  accuracy=accuracy/4 \n",
    "  print(\"accuracy\",accuracy)\n",
    "  return Final ,accuracy\n",
    "\n"
   ]
  },
  {
   "cell_type": "markdown",
   "metadata": {
    "id": "Fb5NwYJLL9bw"
   },
   "source": [
    "###Dimension 3일때 Confusion matrix"
   ]
  },
  {
   "cell_type": "code",
   "execution_count": 62,
   "metadata": {
    "colab": {
     "base_uri": "https://localhost:8080/",
     "height": 425
    },
    "executionInfo": {
     "elapsed": 2711837,
     "status": "error",
     "timestamp": 1619595076262,
     "user": {
      "displayName": "송우석",
      "photoUrl": "",
      "userId": "17544301414917834266"
     },
     "user_tz": -540
    },
    "id": "6vgpyCrFWx8p",
    "outputId": "b76c2d26-cf8d-4a18-d942-dc12c91e5e22"
   },
   "outputs": [
    {
     "name": "stdout",
     "output_type": "stream",
     "text": [
      "FINAL_CONFUSION_MATRICS [[80.95238095 10.          0.          9.04761905]\n",
      " [ 8.57142857 81.9047619   4.28571429  5.23809524]\n",
      " [ 4.76190476 10.47619048 67.14285714 17.61904762]\n",
      " [11.42857143  5.71428571 18.57142857 64.28571429]]\n",
      "accuracy 73.57142857142856\n"
     ]
    },
    {
     "data": {
      "text/plain": [
       "(array([[80.95238095, 10.        ,  0.        ,  9.04761905],\n",
       "        [ 8.57142857, 81.9047619 ,  4.28571429,  5.23809524],\n",
       "        [ 4.76190476, 10.47619048, 67.14285714, 17.61904762],\n",
       "        [11.42857143,  5.71428571, 18.57142857, 64.28571429]]),\n",
       " 73.57142857142856)"
      ]
     },
     "execution_count": 62,
     "metadata": {},
     "output_type": "execute_result"
    }
   ],
   "source": [
    "r=TF(3)\n",
    "r"
   ]
  },
  {
   "cell_type": "code",
   "execution_count": null,
   "metadata": {},
   "outputs": [],
   "source": []
  }
 ],
 "metadata": {
  "colab": {
   "authorship_tag": "ABX9TyOq98dcUvJIXLWY6Rxsa9Ut",
   "collapsed_sections": [],
   "mount_file_id": "1uTKqTToURSKpF0Ym9kNHMLT1wZpuhNmR",
   "name": "기계학습과제2.ipynb",
   "provenance": []
  },
  "kernelspec": {
   "display_name": "Python 3",
   "language": "python",
   "name": "python3"
  },
  "language_info": {
   "codemirror_mode": {
    "name": "ipython",
    "version": 3
   },
   "file_extension": ".py",
   "mimetype": "text/x-python",
   "name": "python",
   "nbconvert_exporter": "python",
   "pygments_lexer": "ipython3",
   "version": "3.8.8"
  }
 },
 "nbformat": 4,
 "nbformat_minor": 1
}
